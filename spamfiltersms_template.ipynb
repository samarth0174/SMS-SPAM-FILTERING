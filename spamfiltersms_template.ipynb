{
  "nbformat": 4,
  "nbformat_minor": 0,
  "metadata": {
    "anaconda-cloud": {},
    "kernelspec": {
      "display_name": "Python 3",
      "language": "python",
      "name": "python3"
    },
    "language_info": {
      "name": "python",
      "version": "3.7.6",
      "mimetype": "text/x-python",
      "codemirror_mode": {
        "name": "ipython",
        "version": 3
      },
      "pygments_lexer": "ipython3",
      "nbconvert_exporter": "python",
      "file_extension": ".py"
    },
    "colab": {
      "name": "spamfiltersms_template.ipynb",
      "provenance": [],
      "collapsed_sections": [],
      "toc_visible": true,
      "include_colab_link": true
    }
  },
  "cells": [
    {
      "cell_type": "markdown",
      "metadata": {
        "id": "view-in-github",
        "colab_type": "text"
      },
      "source": [
        "<a href=\"https://colab.research.google.com/github/samarth0174/SMS-SPAM-FILTERING/blob/master/spamfiltersms_template.ipynb\" target=\"_parent\"><img src=\"https://colab.research.google.com/assets/colab-badge.svg\" alt=\"Open In Colab\"/></a>"
      ]
    },
    {
      "cell_type": "markdown",
      "metadata": {
        "_cell_guid": "f169d7cf-818b-4815-a5be-76265e99d139",
        "_uuid": "25f02ffdb0d53b9663f351fa0c0f415d2bce15b1",
        "id": "9K69ojXcAMs0",
        "colab_type": "text"
      },
      "source": [
        "## **SMS Spam classification**\n",
        "The given dataset is a set of SMS tagged messages that have been collected for SMS Spam research. It contains one set of SMS messages in English of 5,574 messages, tagged acording being ham (legitimate) or spam.\n",
        "\n",
        "**Task is to build a prediction model that will accurately classify which texts are spam**"
      ]
    },
    {
      "cell_type": "markdown",
      "metadata": {
        "_cell_guid": "8b0b431e-8d74-4a03-9858-539f067f6604",
        "_uuid": "73148e4af546e95aa951ee5cb2c9ee2728eb4401",
        "id": "oX1bDrGTAMs5",
        "colab_type": "text"
      },
      "source": [
        "## **Steps:**\n",
        "- Importing Libraries\n",
        "- Exploring the Dataset & removing unwanted columns\n",
        "- Exploratory Data Analysis\n",
        " - Univariate Analysis\n",
        " - Text Analysis \n",
        "- Feature Engineering - CountVectorisation\n",
        "- preprocessing data before loading to data \n",
        "- Predictive analysis \n",
        "- Conclusion\n"
      ]
    },
    {
      "cell_type": "markdown",
      "metadata": {
        "_cell_guid": "ba30922b-183b-4f2e-ac19-35ebc9dd865a",
        "_uuid": "e27ea858875f6d5698fcfb196b32160c8d761697",
        "id": "bl8mvWGhAMs-",
        "colab_type": "text"
      },
      "source": [
        "## **Importing Libraries**"
      ]
    },
    {
      "cell_type": "code",
      "metadata": {
        "_cell_guid": "77dbf249-4662-4faf-ae30-654f5f76f5b1",
        "_uuid": "5eb96b9e55cca9f7dbc74128cd5933856b39aa51",
        "id": "XiWtn9OvAMtB",
        "colab_type": "code",
        "trusted": true,
        "colab": {}
      },
      "source": [
        "#importing the necessary packages to process or plot the data\n"
      ],
      "execution_count": 0,
      "outputs": []
    },
    {
      "cell_type": "markdown",
      "metadata": {
        "_cell_guid": "ab7471a7-9fda-4dc9-ba8b-6d4f0c1b92e1",
        "_uuid": "2a11f84b23cf786579a3beb1074c6e7375456b77",
        "id": "7UxiDRygAMtV",
        "colab_type": "text"
      },
      "source": [
        "**Read the text file with the help of pandas read_table function**"
      ]
    },
    {
      "cell_type": "code",
      "metadata": {
        "_cell_guid": "e8604809-62b9-47bd-84fa-92063d8ae5b3",
        "_uuid": "3a9038c1ea6026f8ae89cf052aa71c89bcb940dd",
        "scrolled": true,
        "id": "vt7pZTcnAMtZ",
        "colab_type": "code",
        "trusted": true,
        "colab": {}
      },
      "source": [
        "# with the help of pandas read the csv file of spam_sms with their read_csv method and store in dataframe.\n",
        "\n",
        "'''Import the dataset into a pandas dataframe using the read_table method. \n",
        "   Because this is a tab separated dataset we will be using '\\t' \n",
        "   as the value for the 'sep' argument which specifies this format.\n",
        "   Also, rename the column name by specifying a list ['v1', 'v2'] \n",
        "   to the 'names' argument of read_table().'''\n",
        "    "
      ],
      "execution_count": 0,
      "outputs": []
    },
    {
      "cell_type": "code",
      "metadata": {
        "trusted": true,
        "id": "hpppAGZrMNDZ",
        "colab_type": "code",
        "colab": {}
      },
      "source": [
        "# using the head function see what is originlly present in the dataset\n"
      ],
      "execution_count": 0,
      "outputs": []
    },
    {
      "cell_type": "markdown",
      "metadata": {
        "id": "D8g7i0ZIMNDj",
        "colab_type": "text"
      },
      "source": [
        "**Shape of the dataset**"
      ]
    },
    {
      "cell_type": "code",
      "metadata": {
        "trusted": true,
        "id": "SoS9WRKvMNDk",
        "colab_type": "code",
        "colab": {}
      },
      "source": [
        "# shape method gives the shape of dataframe\n"
      ],
      "execution_count": 0,
      "outputs": []
    },
    {
      "cell_type": "markdown",
      "metadata": {
        "id": "N5EP06uwMNDw",
        "colab_type": "text"
      },
      "source": [
        "**Size of the dataset**"
      ]
    },
    {
      "cell_type": "code",
      "metadata": {
        "trusted": true,
        "id": "iyayLam-MNDy",
        "colab_type": "code",
        "colab": {}
      },
      "source": [
        "#size"
      ],
      "execution_count": 0,
      "outputs": []
    },
    {
      "cell_type": "markdown",
      "metadata": {
        "id": "bFJsQAUPMND7",
        "colab_type": "text"
      },
      "source": [
        "**Description of all particular column of the dataset**"
      ]
    },
    {
      "cell_type": "code",
      "metadata": {
        "trusted": true,
        "id": "QAmfcS6UMND9",
        "colab_type": "code",
        "colab": {}
      },
      "source": [
        "# descrbe function gives the detailed description of dataframe\n",
        "\n"
      ],
      "execution_count": 0,
      "outputs": []
    },
    {
      "cell_type": "code",
      "metadata": {
        "trusted": true,
        "id": "fkNUi6-pMNEX",
        "colab_type": "code",
        "colab": {}
      },
      "source": [
        "#describe data by group"
      ],
      "execution_count": 0,
      "outputs": []
    },
    {
      "cell_type": "markdown",
      "metadata": {
        "id": "AMAHkEiVMNEz",
        "colab_type": "text"
      },
      "source": [
        "## **Exploratory Data Analysis**\n"
      ]
    },
    {
      "cell_type": "markdown",
      "metadata": {
        "_cell_guid": "2ed76eea-004a-42a0-a1c9-c45c092bbb4b",
        "_uuid": "d71ec916875461c07bdb1f9d53d9b0a7210de035",
        "id": "XbaV4yluAMtm",
        "colab_type": "text"
      },
      "source": [
        "## **Univariate analysis**\n"
      ]
    },
    {
      "cell_type": "code",
      "metadata": {
        "_cell_guid": "74f9cf41-4793-4be5-a46e-bdb93067e973",
        "_uuid": "99a4b831313c23573b7972c65637d01dd497c6fe",
        "scrolled": true,
        "id": "kGBccyLhAMtp",
        "colab_type": "code",
        "trusted": true,
        "colab": {}
      },
      "source": [
        "#todo : do a univaiate analysis \n",
        "#distribution of spam/non spam data"
      ],
      "execution_count": 0,
      "outputs": []
    },
    {
      "cell_type": "markdown",
      "metadata": {
        "id": "jnmoEfQ-MNFK",
        "colab_type": "text"
      },
      "source": [
        "####"
      ]
    },
    {
      "cell_type": "markdown",
      "metadata": {
        "_cell_guid": "ff53e1a6-a37b-4a31-9b41-c959296156de",
        "_uuid": "9ec51be1879d2987eef26632bc411a3577b42ae8",
        "id": "eaGqQrSuAMt_",
        "colab_type": "text"
      },
      "source": [
        "## **Text Analysis**\n",
        "It is an important step when dealing with text data"
      ]
    },
    {
      "cell_type": "markdown",
      "metadata": {
        "id": "3JDOc953MNFO",
        "colab_type": "text"
      },
      "source": [
        "**We want to find the frequencies of words in the spam and non-spam messages. \n",
        "We use the function Counter.**"
      ]
    },
    {
      "cell_type": "code",
      "metadata": {
        "_cell_guid": "8c750858-87e9-498c-86f5-4df7310f9e63",
        "_uuid": "03677f8369b4bb3450ffe8a9cd3de9c0b01e681d",
        "id": "JATEUUyNAMuD",
        "colab_type": "code",
        "trusted": true,
        "colab": {
          "base_uri": "https://localhost:8080/",
          "height": 310
        },
        "outputId": "0c419a99-0323-4bf1-e113-025754d64dab"
      },
      "source": [
        "#import counter function\n",
        "from collections import Counter\n",
        "\n",
        "#using counter\n",
        "count1 = Counter(\" \".join(data[data['v1']=='spam'][\"v2\"]).split()).most_common(20)\n",
        "df1 = pd.DataFrame.from_dict(count1)\n",
        "df1 = df1.rename(columns={0: \"words in spam\", 1 : \"count_\"})\n",
        "df1.plot.bar(legend = False, color = 'orange')\n",
        "y_pos = np.arange(len(df1[\"words in spam\"]))\n",
        "plt.xticks(y_pos, df1[\"words in spam\"])\n",
        "plt.title('More frequent words in spam messages')\n",
        "plt.xlabel('words')\n",
        "plt.ylabel('number')\n",
        "plt.show()\n"
      ],
      "execution_count": 3,
      "outputs": [
        {
          "output_type": "display_data",
          "data": {
            "image/png": "[encoded data removed]",
            "text/plain": [
              "<Figure size 432x288 with 1 Axes>"
            ]
          },
          "metadata": {
            "tags": [],
            "needs_background": "light"
          }
        }
      ]
    },
    {
      "cell_type": "markdown",
      "metadata": {
        "id": "CAbgJHCMTPAZ",
        "colab_type": "text"
      },
      "source": [
        "<b>We can see that the majority of frequent words in msgs are **'the', 'to', 'a', 'or' and so on. These are called stop words and are a part of english grammer,but they don't really convey your message, we need to find the actual vocabulary words which contribute to the meaning**</b><p>\n",
        "With stop words we refer to the most common words in a lenguage, there is no simgle, universal list of stop words. <p>\n",
        "\n",
        "<b>Using skearn , we will import the stopwords dataset listed,and remove them from our messages and again analyse the messages</b>\n",
        "## <b>Now we will remove the stopwords and again do the analysis</b>"
      ]
    },
    {
      "cell_type": "code",
      "metadata": {
        "id": "adSZHt5ZTf6K",
        "colab_type": "code",
        "colab": {}
      },
      "source": [
        "from sklearn.feature_extraction import text\n",
        "stop = text.ENGLISH_STOP_WORDS\n",
        "#removing the stop-words from the messages(complete dataset)\n",
        "data['v2']=data['v2'].apply(lambda x: ' '.join([word for word in x.split() if word not in (stop)]))"
      ],
      "execution_count": 0,
      "outputs": []
    },
    {
      "cell_type": "code",
      "metadata": {
        "id": "36DQOMuNTu39",
        "colab_type": "code",
        "colab": {}
      },
      "source": [
        "## todo: rewrite the counter code here, and check the most frequent words "
      ],
      "execution_count": 0,
      "outputs": []
    },
    {
      "cell_type": "code",
      "metadata": {
        "id": "XFdDSFonZOJ7",
        "colab_type": "code",
        "colab": {}
      },
      "source": [
        ""
      ],
      "execution_count": 0,
      "outputs": []
    },
    {
      "cell_type": "markdown",
      "metadata": {
        "id": "glBVf38ZT15_",
        "colab_type": "text"
      },
      "source": [
        "<b>Above after removing the stop words , we can actually find some meaningful words, like \"Free\",\"Contact\" which can be actially found in spam mails</b>"
      ]
    },
    {
      "cell_type": "code",
      "metadata": {
        "_cell_guid": "9637faec-7114-4365-aceb-a2d74787a205",
        "_uuid": "bf9b59581db68038824724344fe937e65f5f8661",
        "id": "JUtfMgt_AMuW",
        "colab_type": "code",
        "colab": {}
      },
      "source": [
        "##todo:Do the same for finding most frequent words in Non-Spam messages:\n",
        "\n",
        "#note: stop words are already removed from all ham/spam sentences "
      ],
      "execution_count": 0,
      "outputs": []
    },
    {
      "cell_type": "markdown",
      "metadata": {
        "id": "37rBOmGgesHT",
        "colab_type": "text"
      },
      "source": [
        "Optional: Do an analysis regarding the lenghts of spam and ham messages.\n",
        "\n",
        "Did you observe ay pattern?? "
      ]
    },
    {
      "cell_type": "code",
      "metadata": {
        "id": "NP_Eztl1erId",
        "colab_type": "code",
        "colab": {}
      },
      "source": [
        ""
      ],
      "execution_count": 0,
      "outputs": []
    },
    {
      "cell_type": "markdown",
      "metadata": {
        "id": "gY7p7GLIMNFi",
        "colab_type": "text"
      },
      "source": [
        "####"
      ]
    },
    {
      "cell_type": "markdown",
      "metadata": {
        "id": "JvXl5VLnMNFk",
        "colab_type": "text"
      },
      "source": [
        "## **Feature engineering**"
      ]
    },
    {
      "cell_type": "markdown",
      "metadata": {
        "id": "T9yFFDf9MNFl",
        "colab_type": "text"
      },
      "source": [
        "## **First we need to understand how to Prepare Text Data for Machine Learning**\n",
        "## **1. Intution/logic:**\n",
        "- Text data requires special preparation before you can start using it for predictive modeling.\n",
        "- The text must be parsed to remove words, called tokenization. \n",
        "- Then the words need to be encoded as integers or floating point values for use as input to a machine learning algorithm, called feature extraction (or vectorization).\n",
        "-scikit-learn library offers easy-to-use tools to perform both tokenization and feature extraction of your text data\n",
        "- **Since we cannot work with words directly we convert text to fixed-length vectors of numbers - also called Bag-of-words model** \n",
        "## **So Intution is to input Vectors --> model -->output class(spam/ham)**\n",
        "-The basic idea of BoW is to take a piece of text and count the frequency of the words in that text. It is important to note that the BoW concept treats each word individually and the order in which the words occur does not matter.\n",
        "\n",
        "- Using a process which we will go through now, we can convert a collection of documents to a matrix, with each document being a row and each word(token) being the column, and the corresponding (row,column) values being the frequency of occurrence of each word or token in that document.\n",
        "\n",
        "## **2. Vectorisation:**\n",
        "- This can be done by assigning each word a unique number. \n",
        "- Then any document we see can be encoded as a fixed-length vector with the length of the vocabulary of known words. \n",
        "- The value in each position in the vector could be filled with a count or frequency of each word in the encoded document.\n",
        "- An encoded vector is returned with a length of the entire vocabulary and an integer count for the number of times each word appeared in the document.\n",
        "-  eg. he is a boy \n",
        "            attribute name assigned to words : he ->1 , is ->2 , a->3 , boy->4\n",
        "            considering the above sentence -count the occurance of each word \n",
        "            so vector is [1 1 1 1]\n",
        "-  The above logic is applied for complete corpus(text dataset)\n",
        "\n",
        "(Note: This is just a basic intution for understanding in detail pls refer <html><a href=\"https://machinelearningmastery.com/prepare-text-data-machine-learning-scikit-learn/\"><b>this link</b></a></html>) \n",
        "            \n",
        "## **3. Scikit learn Count Vectorizers:** \n",
        "- Count Vectorizers provides a simple way to both tokenize a collection of text documents and build a vocabulary of known words, but also to encode new documents using that vocabulary.    \n",
        "## Below is an example for reference:"
      ]
    },
    {
      "cell_type": "code",
      "metadata": {
        "trusted": true,
        "id": "5zCVEdtpMNFl",
        "colab_type": "code",
        "colab": {
          "base_uri": "https://localhost:8080/",
          "height": 86
        },
        "outputId": "341d9f95-50b9-416e-dc31-ba771aa4dfc3"
      },
      "source": [
        "from sklearn.feature_extraction.text import CountVectorizer\n",
        "# list of text documents\n",
        "text = [\"The quick brown fox jumped over the lazy dog.\"]\n",
        "# create the transform\n",
        "vectorizer = CountVectorizer()\n",
        "# tokenize and build vocab\n",
        "vectorizer.fit(text)\n",
        "# summarize\n",
        "print(vectorizer.vocabulary_)\n",
        "# encode document\n",
        "vector = vectorizer.transform(text)\n",
        "# summarize encoded vector\n",
        "print(vector.shape)\n",
        "print(type(vector))\n",
        "print(vector.toarray())"
      ],
      "execution_count": 2,
      "outputs": [
        {
          "output_type": "stream",
          "text": [
            "{'the': 7, 'quick': 6, 'brown': 0, 'fox': 2, 'jumped': 3, 'over': 5, 'lazy': 4, 'dog': 1}\n",
            "(1, 8)\n",
            "<class 'scipy.sparse.csr.csr_matrix'>\n",
            "[[1 1 1 1 1 1 1 2]]\n"
          ],
          "name": "stdout"
        }
      ]
    },
    {
      "cell_type": "markdown",
      "metadata": {
        "_cell_guid": "ba58d2e5-63a4-4443-ab05-7810decb5eb7",
        "_uuid": "b3c395e8534efc8a402df3b6ac1b699b48fa09f3",
        "id": "o_-PESU2AMuC",
        "colab_type": "text"
      },
      "source": [
        "**Text preprocessing, tokenizing and filtering of stopwords are included in a high level component that is able to build a dictionary of features and transform documents to feature vectors.**\n",
        "**We remove the stop words in order to improve the analytics**"
      ]
    },
    {
      "cell_type": "markdown",
      "metadata": {
        "id": "U2Fc6i8uMNFu",
        "colab_type": "text"
      },
      "source": [
        "## **TODO: Vectorize spam message data ie. data[\"v2\"]**\n",
        "## You will be amazed by looking at the vocabulary"
      ]
    },
    {
      "cell_type": "code",
      "metadata": {
        "id": "kEbnS5NuMNFx",
        "colab_type": "code",
        "colab": {}
      },
      "source": [
        "#todo : vectorise the spam messages\n",
        "'''the vector produced will be treated as\n",
        "   input X for the models''''"
      ],
      "execution_count": 0,
      "outputs": []
    },
    {
      "cell_type": "code",
      "metadata": {
        "id": "sPeZD1z3meW7",
        "colab_type": "code",
        "colab": {}
      },
      "source": [
        ""
      ],
      "execution_count": 0,
      "outputs": []
    },
    {
      "cell_type": "markdown",
      "metadata": {
        "id": "z3r0N2mFMNF3",
        "colab_type": "text"
      },
      "source": [
        "## **Predictive Analysis**"
      ]
    },
    {
      "cell_type": "markdown",
      "metadata": {
        "id": "jgHFkoFHl5Jj",
        "colab_type": "text"
      },
      "source": [
        "### **Preprocessing before loading data:**"
      ]
    },
    {
      "cell_type": "markdown",
      "metadata": {
        "id": "01eZCZjBMNEn",
        "colab_type": "text"
      },
      "source": [
        "**Check for any missing values(if any)** "
      ]
    },
    {
      "cell_type": "code",
      "metadata": {
        "id": "hfqS6tummC1-",
        "colab_type": "code",
        "colab": {}
      },
      "source": [
        "#find null values/impute"
      ],
      "execution_count": 0,
      "outputs": []
    },
    {
      "cell_type": "markdown",
      "metadata": {
        "id": "8A89d8GpMNF3",
        "colab_type": "text"
      },
      "source": [
        "**First we transform the variable spam/non-spam into binary variable(Binary Classification), then we split our data set in training set and test set.**\n"
      ]
    },
    {
      "cell_type": "code",
      "metadata": {
        "trusted": true,
        "id": "Yz3_njGEMNF5",
        "colab_type": "code",
        "colab": {}
      },
      "source": [
        "#todo: map spam as 1 , ham as 0 (Binary varaibles)"
      ],
      "execution_count": 0,
      "outputs": []
    },
    {
      "cell_type": "markdown",
      "metadata": {
        "id": "x1w9YaLyMNGA",
        "colab_type": "text"
      },
      "source": [
        "**train-test split**\n"
      ]
    },
    {
      "cell_type": "code",
      "metadata": {
        "trusted": true,
        "id": "I8ULPLwvMNGB",
        "colab_type": "code",
        "colab": {}
      },
      "source": [
        "##todo :use sklearn model selection - test_train_split\n",
        "\n",
        "#note: the arguments are X= vector , Y = data['v2']"
      ],
      "execution_count": 0,
      "outputs": []
    },
    {
      "cell_type": "markdown",
      "metadata": {
        "id": "82x2Js2aMNGG",
        "colab_type": "text"
      },
      "source": [
        "## **Do a comaprison between each classifier's performance and select the best one**\n",
        "1. Multinomial NaiveBayes\n",
        "2. Gaussian NaiveBayes\n",
        "3. LogisticRegression\n",
        "4. DecisionTree\n",
        "5. RandomForestClassifier\n",
        "6. AdaBoostClassifier\n",
        "- can also try any other classifiers.\n",
        "- Try your models without removing the stop words and compare the results.\n",
        "- use Gridsearch CV to tune algos"
      ]
    },
    {
      "cell_type": "code",
      "metadata": {
        "id": "EpZKQ58-MNGH",
        "colab_type": "code",
        "colab": {}
      },
      "source": [
        ""
      ],
      "execution_count": 0,
      "outputs": []
    },
    {
      "cell_type": "markdown",
      "metadata": {
        "id": "AdRuaYmtXNfH",
        "colab_type": "text"
      },
      "source": [
        "##Conclusion"
      ]
    },
    {
      "cell_type": "code",
      "metadata": {
        "id": "cG9ovdK0XP7M",
        "colab_type": "code",
        "colab": {}
      },
      "source": [
        ""
      ],
      "execution_count": 0,
      "outputs": []
    }
  ]
}