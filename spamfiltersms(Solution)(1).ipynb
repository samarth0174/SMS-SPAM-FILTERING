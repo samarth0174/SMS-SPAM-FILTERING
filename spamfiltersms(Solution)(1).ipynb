{
  "nbformat": 4,
  "nbformat_minor": 0,
  "metadata": {
    "anaconda-cloud": {},
    "colab": {
      "name": "spamfiltersms(Solution).ipynb",
      "provenance": []
    },
    "kernelspec": {
      "display_name": "Python 3",
      "language": "python",
      "name": "python3"
    },
    "language_info": {
      "codemirror_mode": {
        "name": "ipython",
        "version": 3
      },
      "file_extension": ".py",
      "mimetype": "text/x-python",
      "name": "python",
      "nbconvert_exporter": "python",
      "pygments_lexer": "ipython3",
      "version": "3.7.6"
    }
  },
  "cells": [
    {
      "cell_type": "markdown",
      "metadata": {
        "_cell_guid": "f169d7cf-818b-4815-a5be-76265e99d139",
        "_uuid": "25f02ffdb0d53b9663f351fa0c0f415d2bce15b1",
        "colab_type": "text",
        "id": "9K69ojXcAMs0"
      },
      "source": [
        "## **SMS Spam classification**\n",
        "The given dataset is a set of SMS tagged messages that have been collected for SMS Spam research. It contains one set of SMS messages in English of 5,574 messages, tagged acording being ham (legitimate) or spam.\n",
        "\n",
        "**Task is to build a prediction model that will accurately classify which texts are spam**"
      ]
    },
    {
      "cell_type": "markdown",
      "metadata": {
        "_cell_guid": "8b0b431e-8d74-4a03-9858-539f067f6604",
        "_uuid": "73148e4af546e95aa951ee5cb2c9ee2728eb4401",
        "colab_type": "text",
        "id": "oX1bDrGTAMs5"
      },
      "source": [
        "## **Steps:**\n",
        "- Importing Libraries\n",
        "- Exploring the Dataset & removing unwanted columns\n",
        "- Exploratory Data Analysis\n",
        " - Univariate Analysis\n",
        " - Text Analysis \n",
        "- Feature Engineering - CountVectorisation\n",
        "- preprocessing data before loading to data \n",
        "- Predictive analysis \n",
        "- Conclusion\n"
      ]
    },
    {
      "cell_type": "markdown",
      "metadata": {
        "_cell_guid": "ba30922b-183b-4f2e-ac19-35ebc9dd865a",
        "_uuid": "e27ea858875f6d5698fcfb196b32160c8d761697",
        "colab_type": "text",
        "id": "bl8mvWGhAMs-"
      },
      "source": [
        "## **1. Importing Libraries**"
      ]
    },
    {
      "cell_type": "code",
      "metadata": {
        "_cell_guid": "77dbf249-4662-4faf-ae30-654f5f76f5b1",
        "_uuid": "5eb96b9e55cca9f7dbc74128cd5933856b39aa51",
        "colab_type": "code",
        "id": "XiWtn9OvAMtB",
        "trusted": true,
        "colab": {}
      },
      "source": [
        "#importing the necessary packages to process or plot the data\n",
        "import numpy as np\n",
        "import pandas as pd\n",
        "import matplotlib.pyplot as plt\n",
        "from collections import Counter\n",
        "from sklearn import feature_extraction, model_selection, naive_bayes, metrics, svm\n",
        "from IPython.display import Image\n",
        "import warnings\n",
        "warnings.filterwarnings(\"ignore\")\n",
        "%matplotlib inline  "
      ],
      "execution_count": 0,
      "outputs": []
    },
    {
      "cell_type": "markdown",
      "metadata": {
        "_cell_guid": "ab7471a7-9fda-4dc9-ba8b-6d4f0c1b92e1",
        "_uuid": "2a11f84b23cf786579a3beb1074c6e7375456b77",
        "colab_type": "text",
        "id": "7UxiDRygAMtV"
      },
      "source": [
        "**Read the text file with the help of pandas read_table function**"
      ]
    },
    {
      "cell_type": "code",
      "metadata": {
        "_cell_guid": "e8604809-62b9-47bd-84fa-92063d8ae5b3",
        "_uuid": "3a9038c1ea6026f8ae89cf052aa71c89bcb940dd",
        "colab_type": "code",
        "id": "vt7pZTcnAMtZ",
        "scrolled": true,
        "trusted": true,
        "colab": {}
      },
      "source": [
        "\n",
        "data = pd.read_table('/content/SMSSpamCollection',sep='\\t',names=['v1','v2'])\n"
      ],
      "execution_count": 0,
      "outputs": []
    },
    {
      "cell_type": "code",
      "metadata": {
        "trusted": true,
        "id": "v8zt1odKMcTU",
        "colab_type": "code",
        "outputId": "ffb837f8-4f8c-4b29-c318-6ea39362ec29",
        "colab": {
          "base_uri": "https://localhost:8080/",
          "height": 206
        }
      },
      "source": [
        "# using the head function see what is originlly present in the dataset\n",
        "data.head()"
      ],
      "execution_count": 0,
      "outputs": [
        {
          "output_type": "execute_result",
          "data": {
            "text/html": [
              "<div>\n",
              "<style scoped>\n",
              "    .dataframe tbody tr th:only-of-type {\n",
              "        vertical-align: middle;\n",
              "    }\n",
              "\n",
              "    .dataframe tbody tr th {\n",
              "        vertical-align: top;\n",
              "    }\n",
              "\n",
              "    .dataframe thead th {\n",
              "        text-align: right;\n",
              "    }\n",
              "</style>\n",
              "<table border=\"1\" class=\"dataframe\">\n",
              "  <thead>\n",
              "    <tr style=\"text-align: right;\">\n",
              "      <th></th>\n",
              "      <th>v1</th>\n",
              "      <th>v2</th>\n",
              "    </tr>\n",
              "  </thead>\n",
              "  <tbody>\n",
              "    <tr>\n",
              "      <th>0</th>\n",
              "      <td>ham</td>\n",
              "      <td>Go until jurong point, crazy.. Available only ...</td>\n",
              "    </tr>\n",
              "    <tr>\n",
              "      <th>1</th>\n",
              "      <td>ham</td>\n",
              "      <td>Ok lar... Joking wif u oni...</td>\n",
              "    </tr>\n",
              "    <tr>\n",
              "      <th>2</th>\n",
              "      <td>spam</td>\n",
              "      <td>Free entry in 2 a wkly comp to win FA Cup fina...</td>\n",
              "    </tr>\n",
              "    <tr>\n",
              "      <th>3</th>\n",
              "      <td>ham</td>\n",
              "      <td>U dun say so early hor... U c already then say...</td>\n",
              "    </tr>\n",
              "    <tr>\n",
              "      <th>4</th>\n",
              "      <td>ham</td>\n",
              "      <td>Nah I don't think he goes to usf, he lives aro...</td>\n",
              "    </tr>\n",
              "  </tbody>\n",
              "</table>\n",
              "</div>"
            ],
            "text/plain": [
              "     v1                                                 v2\n",
              "0   ham  Go until jurong point, crazy.. Available only ...\n",
              "1   ham                      Ok lar... Joking wif u oni...\n",
              "2  spam  Free entry in 2 a wkly comp to win FA Cup fina...\n",
              "3   ham  U dun say so early hor... U c already then say...\n",
              "4   ham  Nah I don't think he goes to usf, he lives aro..."
            ]
          },
          "metadata": {
            "tags": []
          },
          "execution_count": 67
        }
      ]
    },
    {
      "cell_type": "code",
      "metadata": {
        "id": "HZVTBKhkMcTd",
        "colab_type": "code",
        "colab": {}
      },
      "source": [
        ""
      ],
      "execution_count": 0,
      "outputs": []
    },
    {
      "cell_type": "markdown",
      "metadata": {
        "id": "4MfX4AQUMcTp",
        "colab_type": "text"
      },
      "source": [
        "**Shape of the dataset**"
      ]
    },
    {
      "cell_type": "code",
      "metadata": {
        "trusted": true,
        "id": "bH4BiyukMcTs",
        "colab_type": "code",
        "outputId": "e058b072-c1ad-479e-b477-f35db2d7ff91",
        "colab": {
          "base_uri": "https://localhost:8080/",
          "height": 34
        }
      },
      "source": [
        "# shape method gives the shape of dataframe\n",
        "data.shape"
      ],
      "execution_count": 0,
      "outputs": [
        {
          "output_type": "execute_result",
          "data": {
            "text/plain": [
              "(5572, 2)"
            ]
          },
          "metadata": {
            "tags": []
          },
          "execution_count": 68
        }
      ]
    },
    {
      "cell_type": "markdown",
      "metadata": {
        "id": "AsWDeLYpMcT2",
        "colab_type": "text"
      },
      "source": [
        ""
      ]
    },
    {
      "cell_type": "markdown",
      "metadata": {
        "id": "v-LjwJmxMcUA",
        "colab_type": "text"
      },
      "source": [
        "Again take a look at the data,run below cells"
      ]
    },
    {
      "cell_type": "code",
      "metadata": {
        "trusted": true,
        "id": "1w4HeBjqMcUC",
        "colab_type": "code",
        "outputId": "7f4f02c9-73dd-409e-fe6f-d518ad3503fd",
        "colab": {
          "base_uri": "https://localhost:8080/",
          "height": 175
        }
      },
      "source": [
        "data.describe(include='all')"
      ],
      "execution_count": 0,
      "outputs": [
        {
          "output_type": "execute_result",
          "data": {
            "text/html": [
              "<div>\n",
              "<style scoped>\n",
              "    .dataframe tbody tr th:only-of-type {\n",
              "        vertical-align: middle;\n",
              "    }\n",
              "\n",
              "    .dataframe tbody tr th {\n",
              "        vertical-align: top;\n",
              "    }\n",
              "\n",
              "    .dataframe thead th {\n",
              "        text-align: right;\n",
              "    }\n",
              "</style>\n",
              "<table border=\"1\" class=\"dataframe\">\n",
              "  <thead>\n",
              "    <tr style=\"text-align: right;\">\n",
              "      <th></th>\n",
              "      <th>v1</th>\n",
              "      <th>v2</th>\n",
              "    </tr>\n",
              "  </thead>\n",
              "  <tbody>\n",
              "    <tr>\n",
              "      <th>count</th>\n",
              "      <td>5572</td>\n",
              "      <td>5572</td>\n",
              "    </tr>\n",
              "    <tr>\n",
              "      <th>unique</th>\n",
              "      <td>2</td>\n",
              "      <td>5169</td>\n",
              "    </tr>\n",
              "    <tr>\n",
              "      <th>top</th>\n",
              "      <td>ham</td>\n",
              "      <td>Sorry, I'll call later</td>\n",
              "    </tr>\n",
              "    <tr>\n",
              "      <th>freq</th>\n",
              "      <td>4825</td>\n",
              "      <td>30</td>\n",
              "    </tr>\n",
              "  </tbody>\n",
              "</table>\n",
              "</div>"
            ],
            "text/plain": [
              "          v1                      v2\n",
              "count   5572                    5572\n",
              "unique     2                    5169\n",
              "top      ham  Sorry, I'll call later\n",
              "freq    4825                      30"
            ]
          },
          "metadata": {
            "tags": []
          },
          "execution_count": 69
        }
      ]
    },
    {
      "cell_type": "code",
      "metadata": {
        "trusted": true,
        "id": "LpaaDPBSMcUL",
        "colab_type": "code",
        "outputId": "0fc60613-8d67-4bbc-c1df-45c1293a0259",
        "colab": {
          "base_uri": "https://localhost:8080/",
          "height": 175
        }
      },
      "source": [
        "#describe data by group - use pandas groupby('v1').describe() method\n",
        "data.groupby('v1').describe()"
      ],
      "execution_count": 0,
      "outputs": [
        {
          "output_type": "execute_result",
          "data": {
            "text/html": [
              "<div>\n",
              "<style scoped>\n",
              "    .dataframe tbody tr th:only-of-type {\n",
              "        vertical-align: middle;\n",
              "    }\n",
              "\n",
              "    .dataframe tbody tr th {\n",
              "        vertical-align: top;\n",
              "    }\n",
              "\n",
              "    .dataframe thead tr th {\n",
              "        text-align: left;\n",
              "    }\n",
              "\n",
              "    .dataframe thead tr:last-of-type th {\n",
              "        text-align: right;\n",
              "    }\n",
              "</style>\n",
              "<table border=\"1\" class=\"dataframe\">\n",
              "  <thead>\n",
              "    <tr>\n",
              "      <th></th>\n",
              "      <th colspan=\"4\" halign=\"left\">v2</th>\n",
              "    </tr>\n",
              "    <tr>\n",
              "      <th></th>\n",
              "      <th>count</th>\n",
              "      <th>unique</th>\n",
              "      <th>top</th>\n",
              "      <th>freq</th>\n",
              "    </tr>\n",
              "    <tr>\n",
              "      <th>v1</th>\n",
              "      <th></th>\n",
              "      <th></th>\n",
              "      <th></th>\n",
              "      <th></th>\n",
              "    </tr>\n",
              "  </thead>\n",
              "  <tbody>\n",
              "    <tr>\n",
              "      <th>ham</th>\n",
              "      <td>4825</td>\n",
              "      <td>4516</td>\n",
              "      <td>Sorry, I'll call later</td>\n",
              "      <td>30</td>\n",
              "    </tr>\n",
              "    <tr>\n",
              "      <th>spam</th>\n",
              "      <td>747</td>\n",
              "      <td>653</td>\n",
              "      <td>Please call our customer service representativ...</td>\n",
              "      <td>4</td>\n",
              "    </tr>\n",
              "  </tbody>\n",
              "</table>\n",
              "</div>"
            ],
            "text/plain": [
              "        v2                                                               \n",
              "     count unique                                                top freq\n",
              "v1                                                                       \n",
              "ham   4825   4516                             Sorry, I'll call later   30\n",
              "spam   747    653  Please call our customer service representativ...    4"
            ]
          },
          "metadata": {
            "tags": []
          },
          "execution_count": 70
        }
      ]
    },
    {
      "cell_type": "markdown",
      "metadata": {
        "id": "jOZRFejtMcUT",
        "colab_type": "text"
      },
      "source": [
        "whats your inference??"
      ]
    },
    {
      "cell_type": "code",
      "metadata": {
        "trusted": true,
        "id": "vxOl7h4tMcUW",
        "colab_type": "code",
        "outputId": "034007cc-83cd-4f0f-ab12-d30f550729a1",
        "colab": {
          "base_uri": "https://localhost:8080/",
          "height": 206
        }
      },
      "source": [
        "#Calculating the length of all the messages\n",
        "data['length']=data['v2'].apply(len)\n",
        "data.head()\n",
        "\n"
      ],
      "execution_count": 0,
      "outputs": [
        {
          "output_type": "execute_result",
          "data": {
            "text/html": [
              "<div>\n",
              "<style scoped>\n",
              "    .dataframe tbody tr th:only-of-type {\n",
              "        vertical-align: middle;\n",
              "    }\n",
              "\n",
              "    .dataframe tbody tr th {\n",
              "        vertical-align: top;\n",
              "    }\n",
              "\n",
              "    .dataframe thead th {\n",
              "        text-align: right;\n",
              "    }\n",
              "</style>\n",
              "<table border=\"1\" class=\"dataframe\">\n",
              "  <thead>\n",
              "    <tr style=\"text-align: right;\">\n",
              "      <th></th>\n",
              "      <th>v1</th>\n",
              "      <th>v2</th>\n",
              "      <th>length</th>\n",
              "    </tr>\n",
              "  </thead>\n",
              "  <tbody>\n",
              "    <tr>\n",
              "      <th>0</th>\n",
              "      <td>ham</td>\n",
              "      <td>Go until jurong point, crazy.. Available only ...</td>\n",
              "      <td>111</td>\n",
              "    </tr>\n",
              "    <tr>\n",
              "      <th>1</th>\n",
              "      <td>ham</td>\n",
              "      <td>Ok lar... Joking wif u oni...</td>\n",
              "      <td>29</td>\n",
              "    </tr>\n",
              "    <tr>\n",
              "      <th>2</th>\n",
              "      <td>spam</td>\n",
              "      <td>Free entry in 2 a wkly comp to win FA Cup fina...</td>\n",
              "      <td>155</td>\n",
              "    </tr>\n",
              "    <tr>\n",
              "      <th>3</th>\n",
              "      <td>ham</td>\n",
              "      <td>U dun say so early hor... U c already then say...</td>\n",
              "      <td>49</td>\n",
              "    </tr>\n",
              "    <tr>\n",
              "      <th>4</th>\n",
              "      <td>ham</td>\n",
              "      <td>Nah I don't think he goes to usf, he lives aro...</td>\n",
              "      <td>61</td>\n",
              "    </tr>\n",
              "  </tbody>\n",
              "</table>\n",
              "</div>"
            ],
            "text/plain": [
              "     v1                                                 v2  length\n",
              "0   ham  Go until jurong point, crazy.. Available only ...     111\n",
              "1   ham                      Ok lar... Joking wif u oni...      29\n",
              "2  spam  Free entry in 2 a wkly comp to win FA Cup fina...     155\n",
              "3   ham  U dun say so early hor... U c already then say...      49\n",
              "4   ham  Nah I don't think he goes to usf, he lives aro...      61"
            ]
          },
          "metadata": {
            "tags": []
          },
          "execution_count": 71
        }
      ]
    },
    {
      "cell_type": "code",
      "metadata": {
        "trusted": true,
        "id": "m2j-9uOLMcUe",
        "colab_type": "code",
        "outputId": "dcae9385-e44c-4133-83e4-0bcfd8eae42b",
        "colab": {
          "base_uri": "https://localhost:8080/",
          "height": 206
        }
      },
      "source": [
        "\n",
        "data.head()"
      ],
      "execution_count": 0,
      "outputs": [
        {
          "output_type": "execute_result",
          "data": {
            "text/html": [
              "<div>\n",
              "<style scoped>\n",
              "    .dataframe tbody tr th:only-of-type {\n",
              "        vertical-align: middle;\n",
              "    }\n",
              "\n",
              "    .dataframe tbody tr th {\n",
              "        vertical-align: top;\n",
              "    }\n",
              "\n",
              "    .dataframe thead th {\n",
              "        text-align: right;\n",
              "    }\n",
              "</style>\n",
              "<table border=\"1\" class=\"dataframe\">\n",
              "  <thead>\n",
              "    <tr style=\"text-align: right;\">\n",
              "      <th></th>\n",
              "      <th>v1</th>\n",
              "      <th>v2</th>\n",
              "      <th>length</th>\n",
              "    </tr>\n",
              "  </thead>\n",
              "  <tbody>\n",
              "    <tr>\n",
              "      <th>0</th>\n",
              "      <td>ham</td>\n",
              "      <td>Go until jurong point, crazy.. Available only ...</td>\n",
              "      <td>111</td>\n",
              "    </tr>\n",
              "    <tr>\n",
              "      <th>1</th>\n",
              "      <td>ham</td>\n",
              "      <td>Ok lar... Joking wif u oni...</td>\n",
              "      <td>29</td>\n",
              "    </tr>\n",
              "    <tr>\n",
              "      <th>2</th>\n",
              "      <td>spam</td>\n",
              "      <td>Free entry in 2 a wkly comp to win FA Cup fina...</td>\n",
              "      <td>155</td>\n",
              "    </tr>\n",
              "    <tr>\n",
              "      <th>3</th>\n",
              "      <td>ham</td>\n",
              "      <td>U dun say so early hor... U c already then say...</td>\n",
              "      <td>49</td>\n",
              "    </tr>\n",
              "    <tr>\n",
              "      <th>4</th>\n",
              "      <td>ham</td>\n",
              "      <td>Nah I don't think he goes to usf, he lives aro...</td>\n",
              "      <td>61</td>\n",
              "    </tr>\n",
              "  </tbody>\n",
              "</table>\n",
              "</div>"
            ],
            "text/plain": [
              "     v1                                                 v2  length\n",
              "0   ham  Go until jurong point, crazy.. Available only ...     111\n",
              "1   ham                      Ok lar... Joking wif u oni...      29\n",
              "2  spam  Free entry in 2 a wkly comp to win FA Cup fina...     155\n",
              "3   ham  U dun say so early hor... U c already then say...      49\n",
              "4   ham  Nah I don't think he goes to usf, he lives aro...      61"
            ]
          },
          "metadata": {
            "tags": []
          },
          "execution_count": 74
        }
      ]
    },
    {
      "cell_type": "code",
      "metadata": {
        "id": "0AKFTAQwFAHE",
        "colab_type": "code",
        "outputId": "1ae8410e-dbb7-4aee-9708-309054aa3905",
        "colab": {
          "base_uri": "https://localhost:8080/",
          "height": 300
        }
      },
      "source": [
        "data.describe()"
      ],
      "execution_count": 0,
      "outputs": [
        {
          "output_type": "execute_result",
          "data": {
            "text/html": [
              "<div>\n",
              "<style scoped>\n",
              "    .dataframe tbody tr th:only-of-type {\n",
              "        vertical-align: middle;\n",
              "    }\n",
              "\n",
              "    .dataframe tbody tr th {\n",
              "        vertical-align: top;\n",
              "    }\n",
              "\n",
              "    .dataframe thead th {\n",
              "        text-align: right;\n",
              "    }\n",
              "</style>\n",
              "<table border=\"1\" class=\"dataframe\">\n",
              "  <thead>\n",
              "    <tr style=\"text-align: right;\">\n",
              "      <th></th>\n",
              "      <th>length</th>\n",
              "    </tr>\n",
              "  </thead>\n",
              "  <tbody>\n",
              "    <tr>\n",
              "      <th>count</th>\n",
              "      <td>5572.000000</td>\n",
              "    </tr>\n",
              "    <tr>\n",
              "      <th>mean</th>\n",
              "      <td>80.489950</td>\n",
              "    </tr>\n",
              "    <tr>\n",
              "      <th>std</th>\n",
              "      <td>59.942907</td>\n",
              "    </tr>\n",
              "    <tr>\n",
              "      <th>min</th>\n",
              "      <td>2.000000</td>\n",
              "    </tr>\n",
              "    <tr>\n",
              "      <th>25%</th>\n",
              "      <td>36.000000</td>\n",
              "    </tr>\n",
              "    <tr>\n",
              "      <th>50%</th>\n",
              "      <td>62.000000</td>\n",
              "    </tr>\n",
              "    <tr>\n",
              "      <th>75%</th>\n",
              "      <td>122.000000</td>\n",
              "    </tr>\n",
              "    <tr>\n",
              "      <th>max</th>\n",
              "      <td>910.000000</td>\n",
              "    </tr>\n",
              "  </tbody>\n",
              "</table>\n",
              "</div>"
            ],
            "text/plain": [
              "            length\n",
              "count  5572.000000\n",
              "mean     80.489950\n",
              "std      59.942907\n",
              "min       2.000000\n",
              "25%      36.000000\n",
              "50%      62.000000\n",
              "75%     122.000000\n",
              "max     910.000000"
            ]
          },
          "metadata": {
            "tags": []
          },
          "execution_count": 75
        }
      ]
    },
    {
      "cell_type": "markdown",
      "metadata": {
        "_cell_guid": "2ed76eea-004a-42a0-a1c9-c45c092bbb4b",
        "_uuid": "d71ec916875461c07bdb1f9d53d9b0a7210de035",
        "colab_type": "text",
        "id": "XbaV4yluAMtm"
      },
      "source": [
        "## Distribution spam/non-spam plots"
      ]
    },
    {
      "cell_type": "code",
      "metadata": {
        "_cell_guid": "74f9cf41-4793-4be5-a46e-bdb93067e973",
        "_uuid": "99a4b831313c23573b7972c65637d01dd497c6fe",
        "colab_type": "code",
        "id": "kGBccyLhAMtp",
        "outputId": "6c5af4fc-8ef4-4b7f-8cdc-4c1aa9ab6aef",
        "scrolled": true,
        "trusted": true,
        "colab": {
          "base_uri": "https://localhost:8080/",
          "height": 299
        }
      },
      "source": [
        "count_Class=pd.value_counts(data[\"v1\"], sort= True)\n",
        "count_Class.plot(kind= 'bar', color= [\"blue\", \"orange\"])\n",
        "plt.title('Bar chart')\n",
        "plt.show()"
      ],
      "execution_count": 0,
      "outputs": [
        {
          "output_type": "display_data",
          "data": {
            "image/png": "[encoded data removed]",
            "text/plain": [
              "<Figure size 432x288 with 1 Axes>"
            ]
          },
          "metadata": {
            "tags": [],
            "needs_background": "light"
          }
        }
      ]
    },
    {
      "cell_type": "code",
      "metadata": {
        "_cell_guid": "5596df63-7be7-4625-b952-c5508917a630",
        "_uuid": "f233eab105cb93e90ce37f9361616a5be6645751",
        "colab_type": "code",
        "id": "z92Dev4NAMtz",
        "outputId": "dcab7e2c-1072-4417-b57c-c807bf6ded60",
        "trusted": true,
        "colab": {
          "base_uri": "https://localhost:8080/",
          "height": 264
        }
      },
      "source": [
        "count_Class.plot(kind = 'pie',  autopct='%1.0f%%')\n",
        "plt.title('Pie chart')\n",
        "plt.show()"
      ],
      "execution_count": 0,
      "outputs": [
        {
          "output_type": "display_data",
          "data": {
            "image/png": "[encoded data removed]",
            "text/plain": [
              "<Figure size 432x288 with 1 Axes>"
            ]
          },
          "metadata": {
            "tags": []
          }
        }
      ]
    },
    {
      "cell_type": "markdown",
      "metadata": {
        "id": "-p-h5CD2McU5",
        "colab_type": "text"
      },
      "source": [
        "####"
      ]
    },
    {
      "cell_type": "markdown",
      "metadata": {
        "_cell_guid": "ff53e1a6-a37b-4a31-9b41-c959296156de",
        "_uuid": "9ec51be1879d2987eef26632bc411a3577b42ae8",
        "colab_type": "text",
        "id": "vN91x17v9i94"
      },
      "source": [
        "## **Text Analysis**\n",
        "It is an important step when dealing with text data"
      ]
    },
    {
      "cell_type": "markdown",
      "metadata": {
        "id": "3JDOc953MNFO",
        "colab_type": "text"
      },
      "source": [
        "**We want to find the frequencies of words in the spam and non-spam messages. \n",
        "We use the function Counter.**"
      ]
    },
    {
      "cell_type": "code",
      "metadata": {
        "_cell_guid": "8c750858-87e9-498c-86f5-4df7310f9e63",
        "_uuid": "03677f8369b4bb3450ffe8a9cd3de9c0b01e681d",
        "colab_type": "code",
        "trusted": true,
        "outputId": "abebda21-73e0-4eb2-a374-a07a16d01e7b",
        "id": "QnS82RsD9i-T",
        "colab": {
          "base_uri": "https://localhost:8080/",
          "height": 310
        }
      },
      "source": [
        "#import counter function\n",
        "from collections import Counter\n",
        "\n",
        "#using counter\n",
        "count1 = Counter(\" \".join(data[data['v1']=='spam'][\"v2\"]).split()).most_common(20)\n",
        "df1 = pd.DataFrame.from_dict(count1)\n",
        "df1 = df1.rename(columns={0: \"words in spam\", 1 : \"count_\"})\n",
        "df1.plot.bar(legend = False, color = 'orange')\n",
        "y_pos = np.arange(len(df1[\"words in spam\"]))\n",
        "plt.xticks(y_pos, df1[\"words in spam\"])\n",
        "plt.title('More frequent words in spam messages')\n",
        "plt.xlabel('words')\n",
        "plt.ylabel('number')\n",
        "plt.show()\n"
      ],
      "execution_count": 0,
      "outputs": [
        {
          "output_type": "display_data",
          "data": {
            "image/png": "[encoded data removed]",
            "text/plain": [
              "<Figure size 432x288 with 1 Axes>"
            ]
          },
          "metadata": {
            "tags": [],
            "needs_background": "light"
          }
        }
      ]
    },
    {
      "cell_type": "markdown",
      "metadata": {
        "id": "CAbgJHCMTPAZ",
        "colab_type": "text"
      },
      "source": [
        "<b>We can see that the majority of frequent words in msgs are **'the', 'to', 'a', 'or' and so on. These are called stop words and are a part of english grammer,but they don't really convey your message, we need to find the actual vocabulary words which contribute to the meaning**</b><p>\n",
        "With stop words we refer to the most common words in a lenguage, there is no simgle, universal list of stop words. <p>\n",
        "\n",
        "<b>Using skearn , we will import the stopwords dataset listed,and remove them from our messages and again analyse the messages</b>\n",
        "## <b>Now we will remove the stopwords and again do the analysis</b>"
      ]
    },
    {
      "cell_type": "code",
      "metadata": {
        "id": "adSZHt5ZTf6K",
        "colab_type": "code",
        "colab": {}
      },
      "source": [
        "from sklearn.feature_extraction import text\n",
        "stop = text.ENGLISH_STOP_WORDS\n",
        "#removing the stop-words from the messages(complete dataset)\n",
        "data['v2']=data['v2'].apply(lambda x: ' '.join([word for word in x.split() if word not in (stop)]))"
      ],
      "execution_count": 0,
      "outputs": []
    },
    {
      "cell_type": "code",
      "metadata": {
        "id": "36DQOMuNTu39",
        "colab_type": "code",
        "outputId": "3fec2344-6b6e-4be7-d506-7b5b65af8d1d",
        "colab": {
          "base_uri": "https://localhost:8080/",
          "height": 323
        }
      },
      "source": [
        "## todo: rewrite the counter code here, and check the most frequent words \n",
        "#using counter\n",
        "count1 = Counter(\" \".join(data[data['v1']=='spam'][\"v2\"]).split()).most_common(20)\n",
        "df1 = pd.DataFrame.from_dict(count1)\n",
        "df1 = df1.rename(columns={0: \"words in spam\", 1 : \"count_\"})\n",
        "df1.plot.bar(legend = False, color = 'orange')\n",
        "y_pos = np.arange(len(df1[\"words in spam\"]))\n",
        "plt.xticks(y_pos, df1[\"words in spam\"])\n",
        "plt.title('More frequent words in spam messages')\n",
        "plt.xlabel('words')\n",
        "plt.ylabel('number')\n",
        "plt.show()"
      ],
      "execution_count": 0,
      "outputs": [
        {
          "output_type": "display_data",
          "data": {
            "image/png": "[encoded data removed]",
            "text/plain": [
              "<Figure size 432x288 with 1 Axes>"
            ]
          },
          "metadata": {
            "tags": [],
            "needs_background": "light"
          }
        }
      ]
    },
    {
      "cell_type": "code",
      "metadata": {
        "id": "XFdDSFonZOJ7",
        "colab_type": "code",
        "colab": {}
      },
      "source": [
        ""
      ],
      "execution_count": 0,
      "outputs": []
    },
    {
      "cell_type": "markdown",
      "metadata": {
        "id": "glBVf38ZT15_",
        "colab_type": "text"
      },
      "source": [
        "<b>Above after removing the stop words , we can actually find some meaningful words, like \"Free\",\"Contact\" which can be actially found in spam mails</b>"
      ]
    },
    {
      "cell_type": "code",
      "metadata": {
        "_cell_guid": "9637faec-7114-4365-aceb-a2d74787a205",
        "_uuid": "bf9b59581db68038824724344fe937e65f5f8661",
        "colab_type": "code",
        "id": "1jWRgWQB9i_I",
        "outputId": "f25a2cfa-8b77-4cef-ac63-bb36e7181890",
        "colab": {
          "base_uri": "https://localhost:8080/",
          "height": 333
        }
      },
      "source": [
        "##todo:Do the same for finding most frequent words in Non-Spam messages:\n",
        "\n",
        "#note: stop words are already removed from all ham/spam sentences \n",
        "\n",
        "#using counter\n",
        "count2 = Counter(\" \".join(data[data['v1']=='ham'][\"v2\"]).split()).most_common(20)\n",
        "df2 = pd.DataFrame.from_dict(count2)\n",
        "df2 = df2.rename(columns={0: \"words in non-spam\", 1 : \"count_\"})\n",
        "df2.plot.bar(legend = False, color = 'blue')\n",
        "y_pos = np.arange(len(df2[\"words in non-spam\"]))\n",
        "plt.xticks(y_pos, df2[\"words in non-spam\"])\n",
        "plt.title('More frequent words in non-spam messages')\n",
        "plt.xlabel('words')\n",
        "plt.ylabel('number')\n",
        "plt.show()"
      ],
      "execution_count": 0,
      "outputs": [
        {
          "output_type": "display_data",
          "data": {
            "image/png": "[encoded data removed]",
            "text/plain": [
              "<Figure size 432x288 with 1 Axes>"
            ]
          },
          "metadata": {
            "tags": [],
            "needs_background": "light"
          }
        }
      ]
    },
    {
      "cell_type": "markdown",
      "metadata": {
        "_cell_guid": "40db40e9-aeb2-487f-9ab7-d6debf26d611",
        "_uuid": "c971edae5a8be1bfd0719e777ba92322ad897abe",
        "colab_type": "text",
        "id": "PA5qJo7bAMuf"
      },
      "source": [
        "<b>We can see that the majority of frequent words in both classes are **stop words** such as 'to', 'a', 'or' and so on.</b><p>\n",
        "With stop words we refer to the most common words in a lenguage, there is no simgle, universal list of stop words. <p>\n",
        "**In the next step,  feature engineering we will remove these stop words which don't majorly contribute in prediction**"
      ]
    },
    {
      "cell_type": "markdown",
      "metadata": {
        "id": "JvXl5VLnMNFk",
        "colab_type": "text"
      },
      "source": [
        "## **Feature engineering**"
      ]
    },
    {
      "cell_type": "markdown",
      "metadata": {
        "id": "T9yFFDf9MNFl",
        "colab_type": "text"
      },
      "source": [
        "## **First we need to understand how to Prepare Text Data for Machine Learning**\n",
        "## **1. Intution/logic:**\n",
        "- Text data requires special preparation before you can start using it for predictive modeling.\n",
        "- The text must be parsed to remove words, called tokenization. \n",
        "- Then the words need to be encoded as integers or floating point values for use as input to a machine learning algorithm, called feature extraction (or vectorization).\n",
        "-scikit-learn library offers easy-to-use tools to perform both tokenization and feature extraction of your text data\n",
        "- **Since we cannot work with words directly we convert text to fixed-length vectors of numbers - also called Bag-of-words model** \n",
        "## **So Intution is to input Vectors --> model -->output class(spam/ham)**\n",
        "-The basic idea of BoW is to take a piece of text and count the frequency of the words in that text. It is important to note that the BoW concept treats each word individually and the order in which the words occur does not matter.\n",
        "\n",
        "- Using a process which we will go through now, we can convert a collection of documents to a matrix, with each document being a row and each word(token) being the column, and the corresponding (row,column) values being the frequency of occurrence of each word or token in that document.\n",
        "\n",
        "## **2. Vectorisation:**\n",
        "- This can be done by assigning each word a unique number. \n",
        "- Then any document we see can be encoded as a fixed-length vector with the length of the vocabulary of known words. \n",
        "- The value in each position in the vector could be filled with a count or frequency of each word in the encoded document.\n",
        "- An encoded vector is returned with a length of the entire vocabulary and an integer count for the number of times each word appeared in the document.\n",
        "-  eg. he is a boy \n",
        "            attribute name assigned to words : he ->1 , is ->2 , a->3 , boy->4\n",
        "            considering the above sentence -count the occurance of each word \n",
        "            so vector is [1 1 1 1]\n",
        "-  The above logic is applied for complete corpus(text dataset)\n",
        "\n",
        "(Note: This is just a basic intution for understanding in detail pls refer <html><a href=\"https://machinelearningmastery.com/prepare-text-data-machine-learning-scikit-learn/\"><b>this link</b></a></html>) \n",
        "            \n",
        "## **3. Scikit learn Count Vectorizers:** \n",
        "- Count Vectorizers provides a simple way to both tokenize a collection of text documents and build a vocabulary of known words, but also to encode new documents using that vocabulary.    \n",
        "## Below is an example for reference:"
      ]
    },
    {
      "cell_type": "code",
      "metadata": {
        "trusted": true,
        "id": "5zCVEdtpMNFl",
        "colab_type": "code",
        "outputId": "ede17186-595b-47a6-9554-4a39c3ee2182",
        "colab": {
          "base_uri": "https://localhost:8080/",
          "height": 86
        }
      },
      "source": [
        "from sklearn.feature_extraction.text import CountVectorizer\n",
        "# list of text documents\n",
        "text = [\"The quick brown fox jumped over the lazy dog.\"]\n",
        "# create the transform\n",
        "vectorizer = CountVectorizer()\n",
        "# tokenize and build vocab\n",
        "vectorizer.fit(text)\n",
        "# summarize\n",
        "print(vectorizer.vocabulary_)\n",
        "# encode document\n",
        "vector = vectorizer.transform(text)\n",
        "# summarize encoded vector\n",
        "print(vector.shape)\n",
        "print(type(vector))\n",
        "print(vector.toarray())"
      ],
      "execution_count": 0,
      "outputs": [
        {
          "output_type": "stream",
          "text": [
            "{'the': 7, 'quick': 6, 'brown': 0, 'fox': 2, 'jumped': 3, 'over': 5, 'lazy': 4, 'dog': 1}\n",
            "(1, 8)\n",
            "<class 'scipy.sparse.csr.csr_matrix'>\n",
            "[[1 1 1 1 1 1 1 2]]\n"
          ],
          "name": "stdout"
        }
      ]
    },
    {
      "cell_type": "markdown",
      "metadata": {
        "_cell_guid": "ba58d2e5-63a4-4443-ab05-7810decb5eb7",
        "_uuid": "b3c395e8534efc8a402df3b6ac1b699b48fa09f3",
        "id": "o_-PESU2AMuC",
        "colab_type": "text"
      },
      "source": [
        "**Text preprocessing, tokenizing and filtering of stopwords are included in a high level component that is able to build a dictionary of features and transform documents to feature vectors.**\n",
        "**We remove the stop words in order to improve the analytics**"
      ]
    },
    {
      "cell_type": "markdown",
      "metadata": {
        "id": "jk_BQZkuMcVr",
        "colab_type": "text"
      },
      "source": [
        "## **TODO: Vectorize spam message data ie. data[\"v2\"]**\n",
        "## You will be amazed by looking at the vocabulary"
      ]
    },
    {
      "cell_type": "code",
      "metadata": {
        "_cell_guid": "653bfeae-e298-44e3-b92c-78c0f747b8ef",
        "_uuid": "67b9147f254e720b0641d9a171333942ef529aba",
        "colab_type": "code",
        "id": "TYwy4QajAMuk",
        "outputId": "5697d8ba-825e-48e0-f037-4ab76c640a5c",
        "trusted": true,
        "colab": {
          "base_uri": "https://localhost:8080/",
          "height": 173
        }
      },
      "source": [
        "#todo : vectorise the messages\n",
        "\n",
        "from sklearn.feature_extraction.text import CountVectorizer\n",
        "# list of text documents\n",
        "text = data['v2']\n",
        "# create the transform\n",
        "vectorizer = CountVectorizer()\n",
        "# tokenize and build vocab\n",
        "vectorizer.fit(text)\n",
        "# summarize\n",
        "#print the vocalbulary - very large\n",
        "# print(vectorizer.vocabulary_)\n",
        "# encode document\n",
        "vector = vectorizer.transform(text)\n",
        "# summarize encoded vector\n",
        "print(vector.shape)\n",
        "print(type(vector))\n",
        "print(vector.toarray())"
      ],
      "execution_count": 0,
      "outputs": [
        {
          "output_type": "stream",
          "text": [
            "(5572, 8675)\n",
            "<class 'scipy.sparse.csr.csr_matrix'>\n",
            "[[0 0 0 ... 0 0 0]\n",
            " [0 0 0 ... 0 0 0]\n",
            " [0 0 0 ... 0 0 0]\n",
            " ...\n",
            " [0 0 0 ... 0 0 0]\n",
            " [0 0 0 ... 0 0 0]\n",
            " [0 0 0 ... 0 0 0]]\n"
          ],
          "name": "stdout"
        }
      ]
    },
    {
      "cell_type": "markdown",
      "metadata": {
        "_cell_guid": "205a78b4-b452-4a1a-8912-de897a798097",
        "_uuid": "35e5277996ce60e9e8725e20805b2a0d7d118764",
        "colab_type": "text",
        "id": "1EBvbbGAAMuv"
      },
      "source": [
        "We have created more than 8400 new features. The new feature $j$ in the row $i$ is equal to 1 if the word $w_{j}$ appears in the text example $i$. It is zero if not."
      ]
    },
    {
      "cell_type": "markdown",
      "metadata": {
        "_cell_guid": "448eda90-2493-46f0-a588-8e6e73b7e2d3",
        "_uuid": "1f0489faa50638217e4754ff0a8f26e5298752df",
        "colab_type": "text",
        "id": "4CMMOAGKAMuw"
      },
      "source": [
        "## **Predictive Analysis**"
      ]
    },
    {
      "cell_type": "markdown",
      "metadata": {
        "_cell_guid": "d1e8c9ef-588e-4708-8275-bfafe82c5cd8",
        "_uuid": "83edda58f114f466bf6cf6d1a278a1e5af08e651",
        "colab_type": "text",
        "id": "01YazDoiAMu0"
      },
      "source": [
        "First we transform the variable spam/non-spam into binary variable(Binary Classification), then we split our data set in training set and test set. "
      ]
    },
    {
      "cell_type": "code",
      "metadata": {
        "_cell_guid": "e5e2bee3-cdad-4ee6-9c59-f3a536195ed7",
        "_uuid": "ab65abc5fe63168bfea503db8e58e5ab03383a22",
        "colab_type": "code",
        "id": "KSDLnSDKAMu1",
        "outputId": "da2602d7-d2f1-4713-9ab6-975705b4e89b",
        "colab": {
          "base_uri": "https://localhost:8080/",
          "height": 206
        }
      },
      "source": [
        "\n",
        "data.head()"
      ],
      "execution_count": 0,
      "outputs": [
        {
          "output_type": "execute_result",
          "data": {
            "text/html": [
              "<div>\n",
              "<style scoped>\n",
              "    .dataframe tbody tr th:only-of-type {\n",
              "        vertical-align: middle;\n",
              "    }\n",
              "\n",
              "    .dataframe tbody tr th {\n",
              "        vertical-align: top;\n",
              "    }\n",
              "\n",
              "    .dataframe thead th {\n",
              "        text-align: right;\n",
              "    }\n",
              "</style>\n",
              "<table border=\"1\" class=\"dataframe\">\n",
              "  <thead>\n",
              "    <tr style=\"text-align: right;\">\n",
              "      <th></th>\n",
              "      <th>v1</th>\n",
              "      <th>v2</th>\n",
              "      <th>length</th>\n",
              "    </tr>\n",
              "  </thead>\n",
              "  <tbody>\n",
              "    <tr>\n",
              "      <th>0</th>\n",
              "      <td>ham</td>\n",
              "      <td>Go jurong point, crazy.. Available bugis n gre...</td>\n",
              "      <td>111</td>\n",
              "    </tr>\n",
              "    <tr>\n",
              "      <th>1</th>\n",
              "      <td>ham</td>\n",
              "      <td>Ok lar... Joking wif u oni...</td>\n",
              "      <td>29</td>\n",
              "    </tr>\n",
              "    <tr>\n",
              "      <th>2</th>\n",
              "      <td>spam</td>\n",
              "      <td>Free entry 2 wkly comp win FA Cup final tkts 2...</td>\n",
              "      <td>155</td>\n",
              "    </tr>\n",
              "    <tr>\n",
              "      <th>3</th>\n",
              "      <td>ham</td>\n",
              "      <td>U dun say early hor... U c say...</td>\n",
              "      <td>49</td>\n",
              "    </tr>\n",
              "    <tr>\n",
              "      <th>4</th>\n",
              "      <td>ham</td>\n",
              "      <td>Nah I don't think goes usf, lives</td>\n",
              "      <td>61</td>\n",
              "    </tr>\n",
              "  </tbody>\n",
              "</table>\n",
              "</div>"
            ],
            "text/plain": [
              "     v1                                                 v2  length\n",
              "0   ham  Go jurong point, crazy.. Available bugis n gre...     111\n",
              "1   ham                      Ok lar... Joking wif u oni...      29\n",
              "2  spam  Free entry 2 wkly comp win FA Cup final tkts 2...     155\n",
              "3   ham                  U dun say early hor... U c say...      49\n",
              "4   ham                  Nah I don't think goes usf, lives      61"
            ]
          },
          "metadata": {
            "tags": []
          },
          "execution_count": 91
        }
      ]
    },
    {
      "cell_type": "code",
      "metadata": {
        "id": "LOdef8jpFxgR",
        "colab_type": "code",
        "outputId": "e57787bd-a40c-4d75-94d0-09fb8f942655",
        "colab": {
          "base_uri": "https://localhost:8080/",
          "height": 206
        }
      },
      "source": [
        "data['label_num']=data.v1.map({'ham':0,'spam':1})\n",
        "data.head()"
      ],
      "execution_count": 0,
      "outputs": [
        {
          "output_type": "execute_result",
          "data": {
            "text/html": [
              "<div>\n",
              "<style scoped>\n",
              "    .dataframe tbody tr th:only-of-type {\n",
              "        vertical-align: middle;\n",
              "    }\n",
              "\n",
              "    .dataframe tbody tr th {\n",
              "        vertical-align: top;\n",
              "    }\n",
              "\n",
              "    .dataframe thead th {\n",
              "        text-align: right;\n",
              "    }\n",
              "</style>\n",
              "<table border=\"1\" class=\"dataframe\">\n",
              "  <thead>\n",
              "    <tr style=\"text-align: right;\">\n",
              "      <th></th>\n",
              "      <th>v1</th>\n",
              "      <th>v2</th>\n",
              "      <th>length</th>\n",
              "      <th>label_num</th>\n",
              "    </tr>\n",
              "  </thead>\n",
              "  <tbody>\n",
              "    <tr>\n",
              "      <th>0</th>\n",
              "      <td>ham</td>\n",
              "      <td>Go jurong point, crazy.. Available bugis n gre...</td>\n",
              "      <td>111</td>\n",
              "      <td>0</td>\n",
              "    </tr>\n",
              "    <tr>\n",
              "      <th>1</th>\n",
              "      <td>ham</td>\n",
              "      <td>Ok lar... Joking wif u oni...</td>\n",
              "      <td>29</td>\n",
              "      <td>0</td>\n",
              "    </tr>\n",
              "    <tr>\n",
              "      <th>2</th>\n",
              "      <td>spam</td>\n",
              "      <td>Free entry 2 wkly comp win FA Cup final tkts 2...</td>\n",
              "      <td>155</td>\n",
              "      <td>1</td>\n",
              "    </tr>\n",
              "    <tr>\n",
              "      <th>3</th>\n",
              "      <td>ham</td>\n",
              "      <td>U dun say early hor... U c say...</td>\n",
              "      <td>49</td>\n",
              "      <td>0</td>\n",
              "    </tr>\n",
              "    <tr>\n",
              "      <th>4</th>\n",
              "      <td>ham</td>\n",
              "      <td>Nah I don't think goes usf, lives</td>\n",
              "      <td>61</td>\n",
              "      <td>0</td>\n",
              "    </tr>\n",
              "  </tbody>\n",
              "</table>\n",
              "</div>"
            ],
            "text/plain": [
              "     v1                                                 v2  length  label_num\n",
              "0   ham  Go jurong point, crazy.. Available bugis n gre...     111          0\n",
              "1   ham                      Ok lar... Joking wif u oni...      29          0\n",
              "2  spam  Free entry 2 wkly comp win FA Cup final tkts 2...     155          1\n",
              "3   ham                  U dun say early hor... U c say...      49          0\n",
              "4   ham                  Nah I don't think goes usf, lives      61          0"
            ]
          },
          "metadata": {
            "tags": []
          },
          "execution_count": 92
        }
      ]
    },
    {
      "cell_type": "markdown",
      "metadata": {
        "id": "5JR9UXHRMcWS",
        "colab_type": "text"
      },
      "source": [
        "**train-test split**\n"
      ]
    },
    {
      "cell_type": "code",
      "metadata": {
        "id": "BzB0NbZdMcWT",
        "colab_type": "code",
        "outputId": "6e8a2122-5a2d-40ec-bb6c-5f7dec505e56",
        "colab": {
          "base_uri": "https://localhost:8080/",
          "height": 34
        }
      },
      "source": [
        "X_train, X_test, y_train, y_test = model_selection.train_test_split(X, data['label_num'], test_size=0.33, random_state=42)\n",
        "print([np.shape(X_train), np.shape(X_test)])"
      ],
      "execution_count": 0,
      "outputs": [
        {
          "output_type": "stream",
          "text": [
            "[(3733, 8675), (1839, 8675)]\n"
          ],
          "name": "stdout"
        }
      ]
    },
    {
      "cell_type": "code",
      "metadata": {
        "id": "yAYF9zxoB4YT",
        "colab_type": "code",
        "outputId": "754ddc6b-4a8c-4247-c7be-69a77676cdf4",
        "colab": {
          "base_uri": "https://localhost:8080/",
          "height": 121
        }
      },
      "source": [
        "print(y_train[:5])"
      ],
      "execution_count": 0,
      "outputs": [
        {
          "output_type": "stream",
          "text": [
            "3235    0\n",
            "945     0\n",
            "5319    0\n",
            "5528    0\n",
            "247     0\n",
            "Name: label_num, dtype: int64\n"
          ],
          "name": "stdout"
        }
      ]
    },
    {
      "cell_type": "code",
      "metadata": {
        "id": "TSku_sVQA42w",
        "colab_type": "code",
        "colab": {}
      },
      "source": [
        "from sklearn.naive_bayes import MultinomialNB,GaussianNB\n",
        "from sklearn.svm import SVC\n",
        "from sklearn.linear_model import LogisticRegression\n",
        "from sklearn.ensemble import RandomForestClassifier\n",
        "from sklearn.ensemble import AdaBoostClassifier\n",
        "from sklearn.metrics import accuracy_score\n",
        "from sklearn.metrics import precision_score\n",
        "from sklearn.metrics import recall_score\n",
        "from sklearn.metrics import f1_score\n"
      ],
      "execution_count": 0,
      "outputs": []
    },
    {
      "cell_type": "code",
      "metadata": {
        "id": "XSGv7Htt9QY9",
        "colab_type": "code",
        "colab": {}
      },
      "source": [
        "#Loading all classifier\n",
        "svc = SVC(kernel = 'linear')\n",
        "mnb = MultinomialNB(alpha =0.2)\n",
        "gnb  = GaussianNB()\n",
        "lr = LogisticRegression(solver='liblinear', penalty='l1')\n",
        "rfc = RandomForestClassifier(n_estimators=100,random_state=11)\n",
        "abc = AdaBoostClassifier(n_estimators =100,random_state=11)"
      ],
      "execution_count": 0,
      "outputs": []
    },
    {
      "cell_type": "code",
      "metadata": {
        "id": "qZ_qY4oH9QZF",
        "colab_type": "code",
        "colab": {}
      },
      "source": [
        "#defining functions for training and testing data\n",
        "\n",
        "def training(clf,X_train,y_train):\n",
        "    clf.fit(X_train,y_train)\n",
        "    \n",
        "#function for predicting labels\n",
        "\n",
        "def predict(clf,X_test):\n",
        "    return clf.predict(X_test)"
      ],
      "execution_count": 0,
      "outputs": []
    },
    {
      "cell_type": "code",
      "metadata": {
        "id": "mVJ3IWoI9QZL",
        "colab_type": "code",
        "colab": {}
      },
      "source": [
        "#defining a dictionary of classifier\n",
        "classifier={'SVM': svc , 'MultinomialNB': mnb,'GaussianNB': gnb,'logistic': lr,'RandomForest': rfc,'Adaboost': abc}"
      ],
      "execution_count": 0,
      "outputs": []
    },
    {
      "cell_type": "code",
      "metadata": {
        "id": "tjUhuJO09QZU",
        "colab_type": "code",
        "colab": {}
      },
      "source": [
        "#predict and storing score of each classifier\n",
        "score = []\n",
        "for n,c in classifier.items():\n",
        "    training(c,X_train.toarray(),y_train)\n",
        "    pred = predict(c,X_test.toarray())\n",
        "    score.append((n,accuracy_score(y_test,pred),precision_score(y_test,pred),recall_score(y_test,pred),f1_score(y_test,pred)))\n"
      ],
      "execution_count": 0,
      "outputs": []
    },
    {
      "cell_type": "code",
      "metadata": {
        "id": "WtwdyRTBIOkw",
        "colab_type": "code",
        "outputId": "1e6a3dad-e7fc-4e45-f796-2f0bb1179b24",
        "colab": {
          "base_uri": "https://localhost:8080/",
          "height": 54
        }
      },
      "source": [
        "print(score)"
      ],
      "execution_count": 0,
      "outputs": [
        {
          "output_type": "stream",
          "text": [
            "[('SVM', 0.9891245241979336, 0.9956140350877193, 0.9227642276422764, 0.9578059071729957), ('MultinomialNB', 0.9804241435562806, 0.8917910447761194, 0.9715447154471545, 0.9299610894941633), ('GaussianNB', 0.9053833605220228, 0.5932642487046632, 0.9308943089430894, 0.7246835443037974), ('logistic', 0.9809679173463839, 0.9606986899563319, 0.8943089430894309, 0.9263157894736842), ('RandomForest', 0.977705274605764, 1.0, 0.8333333333333334, 0.9090909090909091), ('Adaboost', 0.9766177270255574, 0.9432314410480349, 0.8780487804878049, 0.9094736842105263)]\n"
          ],
          "name": "stdout"
        }
      ]
    },
    {
      "cell_type": "code",
      "metadata": {
        "id": "7NGewwg99QZZ",
        "colab_type": "code",
        "outputId": "6c8a66a3-b142-4385-c71f-7da47d576696",
        "colab": {
          "base_uri": "https://localhost:8080/",
          "height": 238
        }
      },
      "source": [
        "score_df=pd.DataFrame(score,columns=['classifier','acc','precision','recall','f1_score'])\n",
        "#Adding accuracy column\n",
        "score_df['Accuracy (%)']=score_df['acc']*100\n",
        "score_df"
      ],
      "execution_count": 0,
      "outputs": [
        {
          "output_type": "execute_result",
          "data": {
            "text/html": [
              "<div>\n",
              "<style scoped>\n",
              "    .dataframe tbody tr th:only-of-type {\n",
              "        vertical-align: middle;\n",
              "    }\n",
              "\n",
              "    .dataframe tbody tr th {\n",
              "        vertical-align: top;\n",
              "    }\n",
              "\n",
              "    .dataframe thead th {\n",
              "        text-align: right;\n",
              "    }\n",
              "</style>\n",
              "<table border=\"1\" class=\"dataframe\">\n",
              "  <thead>\n",
              "    <tr style=\"text-align: right;\">\n",
              "      <th></th>\n",
              "      <th>classifier</th>\n",
              "      <th>acc</th>\n",
              "      <th>precision</th>\n",
              "      <th>recall</th>\n",
              "      <th>f1_score</th>\n",
              "      <th>Accuracy (%)</th>\n",
              "    </tr>\n",
              "  </thead>\n",
              "  <tbody>\n",
              "    <tr>\n",
              "      <th>0</th>\n",
              "      <td>SVM</td>\n",
              "      <td>0.989125</td>\n",
              "      <td>0.995614</td>\n",
              "      <td>0.922764</td>\n",
              "      <td>0.957806</td>\n",
              "      <td>98.912452</td>\n",
              "    </tr>\n",
              "    <tr>\n",
              "      <th>1</th>\n",
              "      <td>MultinomialNB</td>\n",
              "      <td>0.980424</td>\n",
              "      <td>0.891791</td>\n",
              "      <td>0.971545</td>\n",
              "      <td>0.929961</td>\n",
              "      <td>98.042414</td>\n",
              "    </tr>\n",
              "    <tr>\n",
              "      <th>2</th>\n",
              "      <td>GaussianNB</td>\n",
              "      <td>0.905383</td>\n",
              "      <td>0.593264</td>\n",
              "      <td>0.930894</td>\n",
              "      <td>0.724684</td>\n",
              "      <td>90.538336</td>\n",
              "    </tr>\n",
              "    <tr>\n",
              "      <th>3</th>\n",
              "      <td>logistic</td>\n",
              "      <td>0.980968</td>\n",
              "      <td>0.960699</td>\n",
              "      <td>0.894309</td>\n",
              "      <td>0.926316</td>\n",
              "      <td>98.096792</td>\n",
              "    </tr>\n",
              "    <tr>\n",
              "      <th>4</th>\n",
              "      <td>RandomForest</td>\n",
              "      <td>0.977705</td>\n",
              "      <td>1.000000</td>\n",
              "      <td>0.833333</td>\n",
              "      <td>0.909091</td>\n",
              "      <td>97.770527</td>\n",
              "    </tr>\n",
              "    <tr>\n",
              "      <th>5</th>\n",
              "      <td>Adaboost</td>\n",
              "      <td>0.976618</td>\n",
              "      <td>0.943231</td>\n",
              "      <td>0.878049</td>\n",
              "      <td>0.909474</td>\n",
              "      <td>97.661773</td>\n",
              "    </tr>\n",
              "  </tbody>\n",
              "</table>\n",
              "</div>"
            ],
            "text/plain": [
              "      classifier       acc  precision    recall  f1_score  Accuracy (%)\n",
              "0            SVM  0.989125   0.995614  0.922764  0.957806     98.912452\n",
              "1  MultinomialNB  0.980424   0.891791  0.971545  0.929961     98.042414\n",
              "2     GaussianNB  0.905383   0.593264  0.930894  0.724684     90.538336\n",
              "3       logistic  0.980968   0.960699  0.894309  0.926316     98.096792\n",
              "4   RandomForest  0.977705   1.000000  0.833333  0.909091     97.770527\n",
              "5       Adaboost  0.976618   0.943231  0.878049  0.909474     97.661773"
            ]
          },
          "metadata": {
            "tags": []
          },
          "execution_count": 139
        }
      ]
    },
    {
      "cell_type": "code",
      "metadata": {
        "id": "v6odJY-FAob_",
        "colab_type": "code",
        "colab": {}
      },
      "source": [
        "# Extra : You can also use GridSearch for fine tuning the models."
      ],
      "execution_count": 0,
      "outputs": []
    },
    {
      "cell_type": "markdown",
      "metadata": {
        "_cell_guid": "08cb6d81-fb1d-4e11-95a6-7922d19d082b",
        "_uuid": "790cff4e431937d762bbe8db39911bf0d87dc53d",
        "colab_type": "text",
        "id": "Sr0ufnXHAMwg"
      },
      "source": [
        "Between these models with the highest possible precision, we are going to select the one which has more test accuracy. Clearly SVM is a WINNER"
      ]
    },
    {
      "cell_type": "markdown",
      "metadata": {
        "_cell_guid": "d41fbc97-15f5-4963-9d5f-1452b2efe7ab",
        "_uuid": "dd004721e1b6171488e1acf4c2a14235fc7f9700",
        "colab_type": "text",
        "id": "iTTqvFoYAMwp"
      },
      "source": [
        "#### Confusion matrix with support vector machine classifier."
      ]
    },
    {
      "cell_type": "code",
      "metadata": {
        "_cell_guid": "bf03b698-42e2-407f-a3da-dcc4acc36221",
        "_uuid": "77005bd9a0fd6de323ada9206468c0598fa9c476",
        "colab_type": "code",
        "id": "lq8k7nEeAMwr",
        "outputId": "dfb8ca34-073e-4167-d03d-2aff069c82aa",
        "colab": {
          "base_uri": "https://localhost:8080/",
          "height": 112
        }
      },
      "source": [
        "m_confusion_test = metrics.confusion_matrix(y_test, svc.predict(X_test.toarray()))\n",
        "pd.DataFrame(data = m_confusion_test, columns = ['Predicted 0(ham)', 'Predicted 1(spam)'],\n",
        "            index = ['Actual 0(ham)', 'Actual 1(spam)'])"
      ],
      "execution_count": 0,
      "outputs": [
        {
          "output_type": "execute_result",
          "data": {
            "text/html": [
              "<div>\n",
              "<style scoped>\n",
              "    .dataframe tbody tr th:only-of-type {\n",
              "        vertical-align: middle;\n",
              "    }\n",
              "\n",
              "    .dataframe tbody tr th {\n",
              "        vertical-align: top;\n",
              "    }\n",
              "\n",
              "    .dataframe thead th {\n",
              "        text-align: right;\n",
              "    }\n",
              "</style>\n",
              "<table border=\"1\" class=\"dataframe\">\n",
              "  <thead>\n",
              "    <tr style=\"text-align: right;\">\n",
              "      <th></th>\n",
              "      <th>Predicted 0(ham)</th>\n",
              "      <th>Predicted 1(spam)</th>\n",
              "    </tr>\n",
              "  </thead>\n",
              "  <tbody>\n",
              "    <tr>\n",
              "      <th>Actual 0(ham)</th>\n",
              "      <td>1592</td>\n",
              "      <td>1</td>\n",
              "    </tr>\n",
              "    <tr>\n",
              "      <th>Actual 1(spam)</th>\n",
              "      <td>19</td>\n",
              "      <td>227</td>\n",
              "    </tr>\n",
              "  </tbody>\n",
              "</table>\n",
              "</div>"
            ],
            "text/plain": [
              "                Predicted 0(ham)  Predicted 1(spam)\n",
              "Actual 0(ham)               1592                  1\n",
              "Actual 1(spam)                19                227"
            ]
          },
          "metadata": {
            "tags": []
          },
          "execution_count": 141
        }
      ]
    },
    {
      "cell_type": "markdown",
      "metadata": {
        "_cell_guid": "44c24499-7357-41f3-af6f-2d05f2b988b4",
        "_uuid": "5190739594c1136056c12e2539889e38a9827641",
        "colab_type": "text",
        "id": "WYyv7OE2AMwy"
      },
      "source": [
        "#### We misclassify 19 spam as non-spam messages whereas only 1 ham(non-spam) message is misclassified."
      ]
    },
    {
      "cell_type": "markdown",
      "metadata": {
        "_cell_guid": "8535b776-3be3-45de-b17f-d2ca39ee3036",
        "_uuid": "1fb3ac434f7fd2b82cfb11e67cef5f9a369046cf",
        "colab_type": "text",
        "id": "SkvWIqZOAMwz"
      },
      "source": [
        "## Conclusion"
      ]
    },
    {
      "cell_type": "markdown",
      "metadata": {
        "_cell_guid": "4e7d0e4d-52a7-4cba-b5f2-4fe363a8db26",
        "_uuid": "d338aab6355df361ab8445d67e6b76bbcd5770b4",
        "colab_type": "text",
        "id": "Jh_I6Vo_AMw1"
      },
      "source": [
        "**The best model found is support vector machine with 98.9% validation accuracy.** <p>\n",
        "**It classifies 99.5% non-spam message correctly (Model precision)** <p> \n",
        "**It classifies the 92.2% of spam messages correctly (Model recall)**<p>"
      ]
    },
    {
      "cell_type": "code",
      "metadata": {
        "id": "Jk3SX02iTilq",
        "colab_type": "code",
        "colab": {}
      },
      "source": [
        ""
      ],
      "execution_count": 0,
      "outputs": []
    }
  ]
}